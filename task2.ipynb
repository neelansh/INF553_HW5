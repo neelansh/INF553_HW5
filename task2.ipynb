{
 "cells": [
  {
   "cell_type": "code",
   "execution_count": 15,
   "metadata": {},
   "outputs": [],
   "source": [
    "from blackbox import BlackBox\n",
    "import binascii\n",
    "import random\n",
    "import sys\n",
    "import math"
   ]
  },
  {
   "cell_type": "code",
   "execution_count": 72,
   "metadata": {},
   "outputs": [],
   "source": [
    "p = 13591\n",
    "m = 69997\n",
    "number_of_hashes = 30\n",
    "len_of_group = 2\n",
    "random.seed(a=10)\n",
    "a = random.sample(range(1, p), number_of_hashes)\n",
    "b = random.sample(range(0, p), number_of_hashes)\n",
    "\n",
    "def convert_str_int(s):\n",
    "    return int(binascii.hexlify(s.encode('utf8')),16)\n",
    "\n",
    "def myhashs(s):\n",
    "    global a, b, m\n",
    "    x = convert_str_int(s)\n",
    "    result = []\n",
    "    for (ai, bi) in zip(a, b):\n",
    "        result.append((ai*x+bi)%m)\n",
    "    return result\n",
    "\n",
    "\n",
    "def calculate_count(num_trailing_zeros):\n",
    "    global number_of_hashes, len_of_group\n",
    "    avgs_groups = []\n",
    "    for i in range(0, number_of_hashes, len_of_group):\n",
    "        group = num_trailing_zeros[i: (i+1)*len_of_group]\n",
    "        group = [math.pow(2, r) for r in group]\n",
    "        avg = sum(group)/len(group)\n",
    "        avgs_groups.append(avg)\n",
    "        \n",
    "    return sorted(avgs_groups)[len(avgs_groups)//2]\n",
    "\n",
    "def flajolet_martin(input_file_path, stream_size, num_of_asks, output_file_path):\n",
    "    global number_of_hashes\n",
    "    bx = BlackBox()\n",
    "    output_file = open(output_file_path, \"wt\")\n",
    "    output_file.write(\"Time,Ground Truth,Estimation\\n\")\n",
    "    predicted_sum = 0\n",
    "    actual_sum = 0\n",
    "    for it in range(num_of_asks):\n",
    "        stream_users = bx.ask(input_file_path, stream_size)\n",
    "        max_number_of_trainling_zeros = [-sys.maxsize]*number_of_hashes\n",
    "        for s in stream_users:\n",
    "            hashes = myhashs(s)\n",
    "            for i, h in enumerate(hashes):\n",
    "                h = format(h, '016b')\n",
    "                number_of_trailing_zeros = len(h) - len(h.rstrip('0'))\n",
    "                    \n",
    "                if(number_of_trailing_zeros > max_number_of_trainling_zeros[i]):\n",
    "                    max_number_of_trainling_zeros[i] = number_of_trailing_zeros\n",
    "        count = calculate_count(max_number_of_trainling_zeros)\n",
    "        output_file.write(\"{},{},{}\\n\".format(it, stream_size, count))\n",
    "        predicted_sum += count\n",
    "        actual_sum += stream_size\n",
    "    print(predicted_sum/actual_sum)\n",
    "    output_file.close()\n",
    "    return\n",
    "        \n",
    "        "
   ]
  },
  {
   "cell_type": "code",
   "execution_count": 73,
   "metadata": {},
   "outputs": [
    {
     "name": "stdout",
     "output_type": "stream",
     "text": [
      "2.8823534391534387\n"
     ]
    }
   ],
   "source": [
    "flajolet_martin('./users.txt', 300, 30, './output2.txt')"
   ]
  },
  {
   "cell_type": "code",
   "execution_count": null,
   "metadata": {},
   "outputs": [],
   "source": []
  }
 ],
 "metadata": {
  "kernelspec": {
   "display_name": "Python 3",
   "language": "python",
   "name": "python3"
  },
  "language_info": {
   "codemirror_mode": {
    "name": "ipython",
    "version": 3
   },
   "file_extension": ".py",
   "mimetype": "text/x-python",
   "name": "python",
   "nbconvert_exporter": "python",
   "pygments_lexer": "ipython3",
   "version": "3.7.4"
  }
 },
 "nbformat": 4,
 "nbformat_minor": 4
}
