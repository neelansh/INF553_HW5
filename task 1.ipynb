{
 "cells": [
  {
   "cell_type": "code",
   "execution_count": 2,
   "metadata": {},
   "outputs": [],
   "source": [
    "from blackbox import BlackBox\n",
    "import binascii\n",
    "import random\n",
    "import sys\n",
    "\n",
    "\n",
    "bloom_filter = [False]*69997\n",
    "\n",
    "p = 13591\n",
    "m = 69997\n",
    "number_of_hashes = 3\n",
    "random.seed(a=123)\n",
    "a = random.sample(range(1, p), number_of_hashes)\n",
    "b = random.sample(range(0, p), number_of_hashes)"
   ]
  },
  {
   "cell_type": "code",
   "execution_count": 3,
   "metadata": {},
   "outputs": [],
   "source": [
    "def convert_str_int(s):\n",
    "    return int(binascii.hexlify(s.encode('utf8')),16)\n",
    "\n",
    "def myhashs(s):\n",
    "    global a, b, m\n",
    "    x = convert_str_int(s)\n",
    "    result = []\n",
    "    for (ai, bi) in zip(a, b):\n",
    "        result.append((ai*x+bi)%m)\n",
    "    return result\n",
    "\n",
    "def main(input_file_path, num_of_asks, stream_size, output_file_path):\n",
    "    global bloom_filter\n",
    "    bx = BlackBox()\n",
    "    gt_set = set()\n",
    "    fp = 0\n",
    "    output_file = open(output_file_path, \"wt\")\n",
    "    output_file.write(\"Time,FPR\\n\")\n",
    "    for it in range(num_of_asks):\n",
    "        stream_users = bx.ask(input_file_path, stream_size)\n",
    "        for s in stream_users:\n",
    "            indices = myhashs(s)\n",
    "            is_not_present = False\n",
    "            \n",
    "            for i in indices:\n",
    "                if(not bloom_filter[i]):\n",
    "                    is_not_present = True\n",
    "                    break\n",
    "            \n",
    "            for i in indices:\n",
    "                bloom_filter[i] = True\n",
    "                \n",
    "            if(not s in gt_set and not is_not_present):\n",
    "                fp += 1\n",
    "                \n",
    "            gt_set.add(s)\n",
    "        output_file.write(\"{},{}\\n\".format(it, fp/((it+1)*stream_size)))\n",
    "    output_file.close()\n",
    "    return\n",
    "            "
   ]
  },
  {
   "cell_type": "code",
   "execution_count": 4,
   "metadata": {},
   "outputs": [],
   "source": [
    "main('./users.txt', 100, 100, 'out1.txt')"
   ]
  },
  {
   "cell_type": "code",
   "execution_count": null,
   "metadata": {},
   "outputs": [],
   "source": []
  }
 ],
 "metadata": {
  "kernelspec": {
   "display_name": "Python 3",
   "language": "python",
   "name": "python3"
  },
  "language_info": {
   "codemirror_mode": {
    "name": "ipython",
    "version": 3
   },
   "file_extension": ".py",
   "mimetype": "text/x-python",
   "name": "python",
   "nbconvert_exporter": "python",
   "pygments_lexer": "ipython3",
   "version": "3.7.4"
  }
 },
 "nbformat": 4,
 "nbformat_minor": 4
}
