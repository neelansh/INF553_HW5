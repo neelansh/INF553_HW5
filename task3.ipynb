{
 "cells": [
  {
   "cell_type": "code",
   "execution_count": 1,
   "metadata": {},
   "outputs": [],
   "source": [
    "from blackbox import BlackBox\n",
    "import binascii\n",
    "import random\n",
    "import sys\n",
    "import math"
   ]
  },
  {
   "cell_type": "code",
   "execution_count": 8,
   "metadata": {},
   "outputs": [],
   "source": [
    "seq_number = 0\n",
    "reservoir = []\n",
    "reservoir_max_size = 100\n",
    "t = []\n",
    "def main(input_file_path, stream_size, num_of_asks, output_file_path):\n",
    "    global seq_number\n",
    "    random.seed(553)\n",
    "    \n",
    "    bx = BlackBox()\n",
    "    output_file = open(output_file_path, \"wt\")\n",
    "    output_file.write(\"seqnum,0_id,20_id,40_id,60_id,80_id\\n\")\n",
    "\n",
    "    for it in range(num_of_asks):\n",
    "        stream_users = bx.ask(input_file_path, stream_size)\n",
    "        \n",
    "        for s in stream_users:\n",
    "            seq_number += 1\n",
    "            if(len(reservoir) >= reservoir_max_size):\n",
    "                x = random.randint(0, 100000)\n",
    "                t.append(x)\n",
    "                if(x/100000 < 100/seq_number):\n",
    "                    reservoir[int(x/1000)] = s\n",
    "            else:\n",
    "                reservoir.append(s)\n",
    "        output_file.write(\"{},{},{},{},{},{}\\n\".format(seq_number, reservoir[0], reservoir[20], reservoir[40], reservoir[60], reservoir[80]))\n",
    "    output_file.close()\n",
    "        \n",
    "main('users.txt', 100, 30, 'output3.txt')"
   ]
  },
  {
   "cell_type": "code",
   "execution_count": 14,
   "metadata": {},
   "outputs": [],
   "source": [
    "import random\n",
    "random.seed(553)\n",
    "t2 = [random.randint(0, 100000) for _ in range(0, 2900)]"
   ]
  },
  {
   "cell_type": "code",
   "execution_count": null,
   "metadata": {},
   "outputs": [],
   "source": []
  }
 ],
 "metadata": {
  "kernelspec": {
   "display_name": "Python 3",
   "language": "python",
   "name": "python3"
  },
  "language_info": {
   "codemirror_mode": {
    "name": "ipython",
    "version": 3
   },
   "file_extension": ".py",
   "mimetype": "text/x-python",
   "name": "python",
   "nbconvert_exporter": "python",
   "pygments_lexer": "ipython3",
   "version": "3.7.4"
  }
 },
 "nbformat": 4,
 "nbformat_minor": 4
}
